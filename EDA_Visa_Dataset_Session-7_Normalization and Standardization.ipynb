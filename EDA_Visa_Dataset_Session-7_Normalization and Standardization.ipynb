{
 "cells": [
  {
   "cell_type": "markdown",
   "id": "7a64686f",
   "metadata": {},
   "source": [
    "## Normalization"
   ]
  },
  {
   "cell_type": "markdown",
   "id": "c71723fd",
   "metadata": {},
   "source": [
    "<img src=\"data:image/png;base64,iVBORw0KGgoAAAANSUhEUgAAAc0AAABtCAMAAAD08Mp1AAAAgVBMVEX///8AAAC0tLShoaGdnZ3r6+u8vLyIiIhkZGQqKir8/Pz29vby8vLu7u7Q0NDm5ubIyMiurq7f39+WlpbX19d+fn7Ly8t0dHQzMzOOjo5CQkJMTEyxsbFvb2/c3NxXV1dfX18ZGRkLCwsjIyM5OTlOTk4WFhYuLi43NzdYWFhycnKzrTzYAAAOFklEQVR4nO1d6WKiMBBmAEFB5RIPvBCtx77/A25mJgm4W7WtuHVrvh/bFJGymcyZmYllGRgYGBgYGBgYGBgYGBgYGBgY/FgMnHw5G9HQy5dZ1NJjY3+ZLwIcRdky91p6qsF1+EDoWlZ/RyOnjafGG36sWCUZDYqgjccaXMccNkm66orptjaQR50ZwPD+pyYA+TAS/0KaQW/cGe1xuRg8GGuY0M8DQAWZZdmCAPndT42hSvFngk/tSa4P736swXVksOTBUkz3zrJSFIrLe5/aB+jQYISPG6IAEBjc+1iD64hgL0drMd22ZTk47e69jz2BNHpi8bSjZQX41M29TzW4gVybPFsgfsLp39xrr6SwlSNcHDPxc89r5WPfXt69ml4UAH0edMR0H3CQlH7/3qe6qIAJwriCsfgZTbrxB7/cZ0PY4PPodOTAE3PoX77Pdi7jb08yTBV3V+Kxn3wllA53r6cXRy7m8DL3pHANl8MN+L23z75K92312a8YnGN73YNYuJexuPw1pw2TyuCziNg/aRul0YHfAfu62vwq4PNq0+B+LK+qza9i9J7aXI3YRIqGkmv7o2Et44NhrTSHKV8ajTuWwUewisl+rGpDMjzeHQqywpgo5YqnKl9ltmXaLBtRCowxpBQmmsi7KNrAtB0IVX4cWOEv/HxurNwPYMkxg5X4UclLi/vDtGNJxXmD46WRlcEgEX9yDYtO6AtzOIZJGq5UaHgITjCX4flNaa1hOoD5sD/YsS9scBW4x4Gc4vKOGOEA9zoIFMc7Cg4FUPFa8Zcm/NGC5O8RpW1HyGGmdinVK+rugseeoH4uI0nIycaYuomTDIr31LQhYe/euRrL7dKkNoJCSVYbArpMqnMgBgl9XPIV/FTcOadXO1HsmKW+8wit/uNw4g0TtGilrPNa2Lgay5ACKmOmW9iTZDvNSbqP6RfBpCf+xpSpfuAlgKFjZGJLi3/BpCaicBMO6TdhemBgT8wXqrL07qcK9ipCK5xDVrLfE1dKF48iClTwLy7IrZY+wBp/DgckaGk5xQFSW3pNB7kqDK5CzOx8iryC5NyJmdy0kRUkFslhjlwfimfv5/uzgFCk90/XasvTq28Qn5aNxzC1B5LaBtcRToQ4LJGCKW53FEk7j7UFFXsU8XPFeqny5hKxlbIUgrTHg24tEWYNDXlS1Hb0VwxuoBZhrfp0+rHBH3r4lyLdSOlqIZnVfqjQtZW+U1O7MFkoz4qNUptakNokaGPkyZhsaxrW1Gbpm7aSSmjQKiLt2Wq1WZIFTC5Sl4dk/Ghq86AsvuV9Da5h0VCbHOAJSKLGtE2KeaBiSL7pSQUb52jR9j+ciWLw7zBRu9va/xjQYP/LIg0qPKaKBSzFkxA9jCcsTZLYE2KrzJw6vlPAJJ1PAzUs2CRa6fCUD9NociXDweDbsAOZq2CDUoSdnXBB2Qbur/Uw1TFe1KaFIeZTQvsaDYcoDN4ZNi7+6eUYGBj8GATRUAnuaGhqKP5rdJa054p7Nx6WIr6Z3JT/Fx7AdjKh0tQMIM9NqPA/hsdRJdwdn8GhT/uls+9+KYOvIVIBi6VMbcFUi+/YYgu7V1GOv+Gd/jvsVLH4hFMsvGaW4GcxiFbjGzHGQTqK3018GV8tAAFTff4BeFDKEeYQjmXizBe7ART43atBRspxu7BYRsP3MWKY/IrbKEBJMJmnFOy+3qkjmxU3OgmEfr5Ruz8GrSNTJRl16v3gDi5wb5OqrIOSLWDkXim3fAm476XfOtBG95z57QYOjVyKFpDc0LYvgPeo1k7F2m1Srb5uY70HQ813qYnX757b0e0GPM7Hezx8BOnCfnEs3kmmRrV5untuP6Y2zf7do+FeYNnPYf0RtVld+CT2rsIUwn0cb1CrTa/h3ad5b1M00rfT2dtmN1Nx3L5b9vKBFaqZhma52sifbt7qFRI66/1plV5sn3UrelDe9x98CYyKCmeXvHrpmaxUypGFWm7nOjmXMlkYfROK0Z1tZIaZ0IG+M4VEZZw11WZawHbmTHSLAXFv7hSwBLjQCiKY+Vdh6uBuAls6oKrDQl+Vu5LXufMJu6BdmaSUciZLuuGwfM6eI0aAmFmdWm2qDPxMRidyVpfYUdCozUeBGrYuOEgrHYeotm0Drj7zJZFUti9wQuFMymYhIqd8f6lr0F2lhWNeCKp3aNyG5WxwAehlCsbCFmF1yZk2S2NmpJzb0QWVFMZA5RVDFQgf6q9qsg41p5dkFunyxctq0+B+CLY7RmgDzaUBM5g2PEYbYJsIwrFHk6s+DSMHBexWmU2Zkq91EWIhq1BHa65v26mqVOei2jS4Hx3BK7F9hBKT5wvby8/c/xVbk7x3PThXeZ6WmW9QG0VMVuxSVpbrjVghdGGo7+0atflI0HYmUTCn0ebM+58wOQ8oYJPzza6lprt2S04NsvZm/syJZXjd1/LVqM3HIowTm9ll4LnJn26AtyZyonmanwdYe3/LV602/T+6ZRWqvMaoze9DRLRNS+bC8qzqNwBVacrRvECRFdl48keBcKVUbEIfmH3nb4CraMKaU/fXsORFKTMpmjcW1i6RNUSPZPZHl5S9ikyQ2hyZnqzfAG3/sK/oNhJMfmXWVMZbuSQx30prCDsZUecPdWs30V2O8N49Ni77l/8LA4aweijE43FAqFN301gKLs0lhQSlfol7HXJDBKdSul+l9GawRhk7k/fuSG2aNq7fgZKVnQeVtlSROcMFRYj6FO2JekUPuuKjgMwk4YsQ/4751o4LWzRrufI0OkyPMKcuVgb/HIFgu+lWsJPaMRE2TE9cqzhml25g2xP2kXAmp6Qm+1voqT6QmD9f1JtsUQ/2PcGXI7zXlIF/D0ZJlsSNKobQy2ZJvdUduwlyXn+RyWtepo2fwMuy5q64uBf9oNDOzF6IgYGBgYHBMyAae7KHXTj0ni+4n3qxDJtE8djUVF5HfMSI8hY9oxmOnqw/Op+z2hVUHMzrjSmD9yG83XXmUybFGg5uVkD1RH5teACYYA/bqt8RNHX9fQsnf/5c+DBFKYt5TkvMiYjWz7QvHmwhx7UlGHR+xKgndiQwwvYSbJUbiCGLLZ/j94gzbL6Ik4yqRPK1qN7CON4X0NfpZQXvxmaXCjS+BTaUPOhwGhbVr5udpEvw9ckyOE0DaQc9jSirVI0jpiziFsb+M9ne41fr2q8XOooyTIAIp7Bp4bj4dhDrM6lQZLh05eOtJcqXk8mZSnVYaHX5UIM26FzG3wI01Xn6WB+y+tzrYcbcqx6Q8pgj3/7C1YKZy5xE9SGf/FNBu/Wu/xU2/0Zddre9izhcrpLDTNRPt1YJXrZTXtQop3lCZGDOx/gEFs8dMptDG+cjvQzw2Jrn7fn1FbX5yqhqtRk4bA0FXdihdLOFPVlgJmGaV9DLGl+K/CmcIivSuy7ZFnYelrbCrlWLKm54mStXNvDfwEmwazjrCZWKlzAf/U1nPPq1rHGgwuFIGHrTp4mLPAQJJQ5S3YyqJFYnpU7n2BYymMJsMUOtlUHp2L3GOeTiquO9QaZ8Vkxfs3fgj8H3Tu0YyEvOSPUb8ak5p8OlgDsFQQxH18bTp4I5+AtXZ0dOt3YhTdoMvJ1wUnNYJkn1o88a86Rj4NZVqFbBnsICAjE8bMiUfIMqo8uNhN8StqHFniBz9b60OATn4HPbKLTocuyY4nlSD3RkTU/RxT+1psw3sYwmxzk6okspkPPKUpmuffHCGR7Jivyb/OiAQiGpeawXvyer+485eYcl/ZKrMrdUHzKtzizRFac55W73qdkG3G6Y8wEMgKkZyagjomTbtiPeGt0WXlogT1dFcZHSpzGd4IiXXOBwJR/x+KNNY1SXO9kHQ5cvEZEiMSFiNuVWpy6liRXVPUWvWCqoAc8sd3A4ttJEbiR3ACZ1qN2RSwdp5Ch5EuqPl/x3faD/CImV7YQWLQv+5Ee3KuxSPwbBT6XsFagladoNkGKSYStlUmZqXvYq0qZKZ1ZdIjyXogatJHwIKlUJLpzpUa4mX1PVoSXGDDvWFo88hHW2qN9rOUKTWPrSkx/t6AjrZ2lnSLQCD9Z05mf9wnKlZVK2lSwqoSA62bp70fw8hlS2uWHlwyZb/BL8hrI2T7IKto34DtXmIPQSixoRo6r2acZaPex/tqNDTXWJglxTvG7mePXU/z1RRB6odp/dRu3pWQxJl6K2AjSDYCeEZ0Qa/izAsdK6ed5o7aIWY9y4OWscgv2zQ7fBMB6ybgzHdnzGVn3dck6X6esDaCslkYfnUzxqOXGhE8dykzKNvfOdOt1eoBakjWMSmp0F9GX/dXdV3lObBcnRAQVneLJYymn556r5enzEW7fr1Wozos3PAJdkSFYuH0ZVU5sF7WumLjTVJnuPHeLWWKx0aHTiCOlKkBdD+pXouHh8PZvuJqHVpkuCtkRnhXUDH66qqc0dfZwfrTov4vCX2uQ2NzhdPWkEDUhPTqZkLq6RDbhiePpw/XSmNnnpkEQN6V3JWgv4tWdKbXInrce/2jOir2Oj3cZZIQMxjbEuEw62ZFegMq3QcExkgDC72dHzbiR/q02Srj7wsFTDM2qjZPnBPspleI3jhmWJvuBNq1/VB9QO4XQUsjfDWSuFFBsBO3T+PzA2lsoVqv0PLIr1mA+nNBzK15fZRbmQzatn3vh7IFzlnPf1dFHAlAVVhG0cxfWVSgGRGa/ejZyQ1rBVNEp0RABDfXIdURiJeTfS2d796rl3cR+JIFEiaVhHFOKFllMrO6YmgnHCpmXo2Sn9SP5Jzl+UKGfE1mtn4HnqYlgPYx3MC2L7+WqmDAwMDAwM/iv8BnR9qjpTv0h7AAAAAElFTkSuQmCC\" data-deferred=\"1\" class=\"rg_i Q4LuWd\" jsname=\"Q4LuWd\" width=\"360\" height=\"86\" alt=\"Min–max normalization - Hands-On Machine Learning on Google Cloud Platform  [Book]\" data-iml=\"861.5999999046326\" data-atf=\"true\">"
   ]
  },
  {
   "cell_type": "markdown",
   "id": "032782e8",
   "metadata": {},
   "source": [
    "$Method-1:$"
   ]
  },
  {
   "cell_type": "code",
   "execution_count": 1,
   "id": "1e01bf97",
   "metadata": {},
   "outputs": [],
   "source": [
    "# Import the packages\n",
    "import numpy as np\n",
    "import pandas as pd"
   ]
  },
  {
   "cell_type": "code",
   "execution_count": 2,
   "id": "adf255ac",
   "metadata": {},
   "outputs": [],
   "source": [
    "# Read the data\n",
    "file_name=\"C:\\\\Users\\\\omkar\\\\OneDrive\\\\Documents\\\\Data science\\\\Naresh IT\\\\Datafiles\\\\Visadataset.csv\"\n",
    "visa_dataset=pd.read_csv(file_name)"
   ]
  },
  {
   "cell_type": "code",
   "execution_count": 3,
   "id": "d99bc06b",
   "metadata": {},
   "outputs": [
    {
     "data": {
      "text/html": [
       "<div>\n",
       "<style scoped>\n",
       "    .dataframe tbody tr th:only-of-type {\n",
       "        vertical-align: middle;\n",
       "    }\n",
       "\n",
       "    .dataframe tbody tr th {\n",
       "        vertical-align: top;\n",
       "    }\n",
       "\n",
       "    .dataframe thead th {\n",
       "        text-align: right;\n",
       "    }\n",
       "</style>\n",
       "<table border=\"1\" class=\"dataframe\">\n",
       "  <thead>\n",
       "    <tr style=\"text-align: right;\">\n",
       "      <th></th>\n",
       "      <th>case_id</th>\n",
       "      <th>continent</th>\n",
       "      <th>education_of_employee</th>\n",
       "      <th>has_job_experience</th>\n",
       "      <th>requires_job_training</th>\n",
       "      <th>no_of_employees</th>\n",
       "      <th>yr_of_estab</th>\n",
       "      <th>region_of_employment</th>\n",
       "      <th>prevailing_wage</th>\n",
       "      <th>unit_of_wage</th>\n",
       "      <th>full_time_position</th>\n",
       "      <th>case_status</th>\n",
       "    </tr>\n",
       "  </thead>\n",
       "  <tbody>\n",
       "    <tr>\n",
       "      <th>0</th>\n",
       "      <td>EZYV01</td>\n",
       "      <td>Asia</td>\n",
       "      <td>High School</td>\n",
       "      <td>N</td>\n",
       "      <td>N</td>\n",
       "      <td>14513</td>\n",
       "      <td>2007</td>\n",
       "      <td>West</td>\n",
       "      <td>592.2029</td>\n",
       "      <td>Hour</td>\n",
       "      <td>Y</td>\n",
       "      <td>Denied</td>\n",
       "    </tr>\n",
       "    <tr>\n",
       "      <th>1</th>\n",
       "      <td>EZYV02</td>\n",
       "      <td>Asia</td>\n",
       "      <td>Master's</td>\n",
       "      <td>Y</td>\n",
       "      <td>N</td>\n",
       "      <td>2412</td>\n",
       "      <td>2002</td>\n",
       "      <td>Northeast</td>\n",
       "      <td>83425.6500</td>\n",
       "      <td>Year</td>\n",
       "      <td>Y</td>\n",
       "      <td>Certified</td>\n",
       "    </tr>\n",
       "    <tr>\n",
       "      <th>2</th>\n",
       "      <td>EZYV03</td>\n",
       "      <td>Asia</td>\n",
       "      <td>Bachelor's</td>\n",
       "      <td>N</td>\n",
       "      <td>Y</td>\n",
       "      <td>44444</td>\n",
       "      <td>2008</td>\n",
       "      <td>West</td>\n",
       "      <td>122996.8600</td>\n",
       "      <td>Year</td>\n",
       "      <td>Y</td>\n",
       "      <td>Denied</td>\n",
       "    </tr>\n",
       "    <tr>\n",
       "      <th>3</th>\n",
       "      <td>EZYV04</td>\n",
       "      <td>Asia</td>\n",
       "      <td>Bachelor's</td>\n",
       "      <td>N</td>\n",
       "      <td>N</td>\n",
       "      <td>98</td>\n",
       "      <td>1897</td>\n",
       "      <td>West</td>\n",
       "      <td>83434.0300</td>\n",
       "      <td>Year</td>\n",
       "      <td>Y</td>\n",
       "      <td>Denied</td>\n",
       "    </tr>\n",
       "    <tr>\n",
       "      <th>4</th>\n",
       "      <td>EZYV05</td>\n",
       "      <td>Africa</td>\n",
       "      <td>Master's</td>\n",
       "      <td>Y</td>\n",
       "      <td>N</td>\n",
       "      <td>1082</td>\n",
       "      <td>2005</td>\n",
       "      <td>South</td>\n",
       "      <td>149907.3900</td>\n",
       "      <td>Year</td>\n",
       "      <td>Y</td>\n",
       "      <td>Certified</td>\n",
       "    </tr>\n",
       "    <tr>\n",
       "      <th>...</th>\n",
       "      <td>...</td>\n",
       "      <td>...</td>\n",
       "      <td>...</td>\n",
       "      <td>...</td>\n",
       "      <td>...</td>\n",
       "      <td>...</td>\n",
       "      <td>...</td>\n",
       "      <td>...</td>\n",
       "      <td>...</td>\n",
       "      <td>...</td>\n",
       "      <td>...</td>\n",
       "      <td>...</td>\n",
       "    </tr>\n",
       "    <tr>\n",
       "      <th>25475</th>\n",
       "      <td>EZYV25476</td>\n",
       "      <td>Asia</td>\n",
       "      <td>Bachelor's</td>\n",
       "      <td>Y</td>\n",
       "      <td>Y</td>\n",
       "      <td>2601</td>\n",
       "      <td>2008</td>\n",
       "      <td>South</td>\n",
       "      <td>77092.5700</td>\n",
       "      <td>Year</td>\n",
       "      <td>Y</td>\n",
       "      <td>Certified</td>\n",
       "    </tr>\n",
       "    <tr>\n",
       "      <th>25476</th>\n",
       "      <td>EZYV25477</td>\n",
       "      <td>Asia</td>\n",
       "      <td>High School</td>\n",
       "      <td>Y</td>\n",
       "      <td>N</td>\n",
       "      <td>3274</td>\n",
       "      <td>2006</td>\n",
       "      <td>Northeast</td>\n",
       "      <td>279174.7900</td>\n",
       "      <td>Year</td>\n",
       "      <td>Y</td>\n",
       "      <td>Certified</td>\n",
       "    </tr>\n",
       "    <tr>\n",
       "      <th>25477</th>\n",
       "      <td>EZYV25478</td>\n",
       "      <td>Asia</td>\n",
       "      <td>Master's</td>\n",
       "      <td>Y</td>\n",
       "      <td>N</td>\n",
       "      <td>1121</td>\n",
       "      <td>1910</td>\n",
       "      <td>South</td>\n",
       "      <td>146298.8500</td>\n",
       "      <td>Year</td>\n",
       "      <td>N</td>\n",
       "      <td>Certified</td>\n",
       "    </tr>\n",
       "    <tr>\n",
       "      <th>25478</th>\n",
       "      <td>EZYV25479</td>\n",
       "      <td>Asia</td>\n",
       "      <td>Master's</td>\n",
       "      <td>Y</td>\n",
       "      <td>Y</td>\n",
       "      <td>1918</td>\n",
       "      <td>1887</td>\n",
       "      <td>West</td>\n",
       "      <td>86154.7700</td>\n",
       "      <td>Year</td>\n",
       "      <td>Y</td>\n",
       "      <td>Certified</td>\n",
       "    </tr>\n",
       "    <tr>\n",
       "      <th>25479</th>\n",
       "      <td>EZYV25480</td>\n",
       "      <td>Asia</td>\n",
       "      <td>Bachelor's</td>\n",
       "      <td>Y</td>\n",
       "      <td>N</td>\n",
       "      <td>3195</td>\n",
       "      <td>1960</td>\n",
       "      <td>Midwest</td>\n",
       "      <td>70876.9100</td>\n",
       "      <td>Year</td>\n",
       "      <td>Y</td>\n",
       "      <td>Certified</td>\n",
       "    </tr>\n",
       "  </tbody>\n",
       "</table>\n",
       "<p>25480 rows × 12 columns</p>\n",
       "</div>"
      ],
      "text/plain": [
       "         case_id continent education_of_employee has_job_experience  \\\n",
       "0         EZYV01      Asia           High School                  N   \n",
       "1         EZYV02      Asia              Master's                  Y   \n",
       "2         EZYV03      Asia            Bachelor's                  N   \n",
       "3         EZYV04      Asia            Bachelor's                  N   \n",
       "4         EZYV05    Africa              Master's                  Y   \n",
       "...          ...       ...                   ...                ...   \n",
       "25475  EZYV25476      Asia            Bachelor's                  Y   \n",
       "25476  EZYV25477      Asia           High School                  Y   \n",
       "25477  EZYV25478      Asia              Master's                  Y   \n",
       "25478  EZYV25479      Asia              Master's                  Y   \n",
       "25479  EZYV25480      Asia            Bachelor's                  Y   \n",
       "\n",
       "      requires_job_training  no_of_employees  yr_of_estab  \\\n",
       "0                         N            14513         2007   \n",
       "1                         N             2412         2002   \n",
       "2                         Y            44444         2008   \n",
       "3                         N               98         1897   \n",
       "4                         N             1082         2005   \n",
       "...                     ...              ...          ...   \n",
       "25475                     Y             2601         2008   \n",
       "25476                     N             3274         2006   \n",
       "25477                     N             1121         1910   \n",
       "25478                     Y             1918         1887   \n",
       "25479                     N             3195         1960   \n",
       "\n",
       "      region_of_employment  prevailing_wage unit_of_wage full_time_position  \\\n",
       "0                     West         592.2029         Hour                  Y   \n",
       "1                Northeast       83425.6500         Year                  Y   \n",
       "2                     West      122996.8600         Year                  Y   \n",
       "3                     West       83434.0300         Year                  Y   \n",
       "4                    South      149907.3900         Year                  Y   \n",
       "...                    ...              ...          ...                ...   \n",
       "25475                South       77092.5700         Year                  Y   \n",
       "25476            Northeast      279174.7900         Year                  Y   \n",
       "25477                South      146298.8500         Year                  N   \n",
       "25478                 West       86154.7700         Year                  Y   \n",
       "25479              Midwest       70876.9100         Year                  Y   \n",
       "\n",
       "      case_status  \n",
       "0          Denied  \n",
       "1       Certified  \n",
       "2          Denied  \n",
       "3          Denied  \n",
       "4       Certified  \n",
       "...           ...  \n",
       "25475   Certified  \n",
       "25476   Certified  \n",
       "25477   Certified  \n",
       "25478   Certified  \n",
       "25479   Certified  \n",
       "\n",
       "[25480 rows x 12 columns]"
      ]
     },
     "execution_count": 3,
     "metadata": {},
     "output_type": "execute_result"
    }
   ],
   "source": [
    "visa_dataset"
   ]
  },
  {
   "cell_type": "code",
   "execution_count": 4,
   "id": "d69b02fd",
   "metadata": {},
   "outputs": [
    {
     "data": {
      "text/plain": [
       "0           592.2029\n",
       "1         83425.6500\n",
       "2        122996.8600\n",
       "3         83434.0300\n",
       "4        149907.3900\n",
       "            ...     \n",
       "25475     77092.5700\n",
       "25476    279174.7900\n",
       "25477    146298.8500\n",
       "25478     86154.7700\n",
       "25479     70876.9100\n",
       "Name: prevailing_wage, Length: 25480, dtype: float64"
      ]
     },
     "execution_count": 4,
     "metadata": {},
     "output_type": "execute_result"
    }
   ],
   "source": [
    "visa_dataset['prevailing_wage']"
   ]
  },
  {
   "cell_type": "code",
   "execution_count": 5,
   "id": "4b00b38b",
   "metadata": {},
   "outputs": [],
   "source": [
    "# xmin\n",
    "# xmax\n",
    "# dr=xmax-xmin\n",
    "# nr= v[pw]-xmnin\n",
    "# v[pw_new]= nr/dr\n",
    "p_wage_min=visa_dataset['prevailing_wage'].min()\n",
    "p_wage_max=visa_dataset['prevailing_wage'].max()\n",
    "nr=visa_dataset['prevailing_wage']-p_wage_min\n",
    "dr=p_wage_max-p_wage_min\n",
    "visa_dataset['prevailing_wage_new']=nr/dr"
   ]
  },
  {
   "cell_type": "code",
   "execution_count": 6,
   "id": "f5a1780c",
   "metadata": {},
   "outputs": [
    {
     "data": {
      "text/html": [
       "<div>\n",
       "<style scoped>\n",
       "    .dataframe tbody tr th:only-of-type {\n",
       "        vertical-align: middle;\n",
       "    }\n",
       "\n",
       "    .dataframe tbody tr th {\n",
       "        vertical-align: top;\n",
       "    }\n",
       "\n",
       "    .dataframe thead th {\n",
       "        text-align: right;\n",
       "    }\n",
       "</style>\n",
       "<table border=\"1\" class=\"dataframe\">\n",
       "  <thead>\n",
       "    <tr style=\"text-align: right;\">\n",
       "      <th></th>\n",
       "      <th>prevailing_wage</th>\n",
       "      <th>prevailing_wage_new</th>\n",
       "    </tr>\n",
       "  </thead>\n",
       "  <tbody>\n",
       "    <tr>\n",
       "      <th>0</th>\n",
       "      <td>592.2029</td>\n",
       "      <td>0.001849</td>\n",
       "    </tr>\n",
       "    <tr>\n",
       "      <th>1</th>\n",
       "      <td>83425.6500</td>\n",
       "      <td>0.261345</td>\n",
       "    </tr>\n",
       "    <tr>\n",
       "      <th>2</th>\n",
       "      <td>122996.8600</td>\n",
       "      <td>0.385312</td>\n",
       "    </tr>\n",
       "    <tr>\n",
       "      <th>3</th>\n",
       "      <td>83434.0300</td>\n",
       "      <td>0.261371</td>\n",
       "    </tr>\n",
       "    <tr>\n",
       "      <th>4</th>\n",
       "      <td>149907.3900</td>\n",
       "      <td>0.469616</td>\n",
       "    </tr>\n",
       "    <tr>\n",
       "      <th>...</th>\n",
       "      <td>...</td>\n",
       "      <td>...</td>\n",
       "    </tr>\n",
       "    <tr>\n",
       "      <th>25475</th>\n",
       "      <td>77092.5700</td>\n",
       "      <td>0.241505</td>\n",
       "    </tr>\n",
       "    <tr>\n",
       "      <th>25476</th>\n",
       "      <td>279174.7900</td>\n",
       "      <td>0.874579</td>\n",
       "    </tr>\n",
       "    <tr>\n",
       "      <th>25477</th>\n",
       "      <td>146298.8500</td>\n",
       "      <td>0.458311</td>\n",
       "    </tr>\n",
       "    <tr>\n",
       "      <th>25478</th>\n",
       "      <td>86154.7700</td>\n",
       "      <td>0.269895</td>\n",
       "    </tr>\n",
       "    <tr>\n",
       "      <th>25479</th>\n",
       "      <td>70876.9100</td>\n",
       "      <td>0.222033</td>\n",
       "    </tr>\n",
       "  </tbody>\n",
       "</table>\n",
       "<p>25480 rows × 2 columns</p>\n",
       "</div>"
      ],
      "text/plain": [
       "       prevailing_wage  prevailing_wage_new\n",
       "0             592.2029             0.001849\n",
       "1           83425.6500             0.261345\n",
       "2          122996.8600             0.385312\n",
       "3           83434.0300             0.261371\n",
       "4          149907.3900             0.469616\n",
       "...                ...                  ...\n",
       "25475       77092.5700             0.241505\n",
       "25476      279174.7900             0.874579\n",
       "25477      146298.8500             0.458311\n",
       "25478       86154.7700             0.269895\n",
       "25479       70876.9100             0.222033\n",
       "\n",
       "[25480 rows x 2 columns]"
      ]
     },
     "execution_count": 6,
     "metadata": {},
     "output_type": "execute_result"
    }
   ],
   "source": [
    "visa_dataset[['prevailing_wage','prevailing_wage_new']]\n",
    "\n",
    "# id_max\n",
    "# id_min"
   ]
  },
  {
   "cell_type": "code",
   "execution_count": 9,
   "id": "e59175f5",
   "metadata": {},
   "outputs": [
    {
     "name": "stdout",
     "output_type": "stream",
     "text": [
      "21077 20575\n"
     ]
    }
   ],
   "source": [
    "max_id=visa_dataset['prevailing_wage'].idxmax()\n",
    "min_id=visa_dataset['prevailing_wage'].idxmin()\n",
    "print(max_id,min_id)"
   ]
  },
  {
   "cell_type": "code",
   "execution_count": 10,
   "id": "37e528f1",
   "metadata": {},
   "outputs": [
    {
     "name": "stdout",
     "output_type": "stream",
     "text": [
      "21077 20575\n"
     ]
    }
   ],
   "source": [
    "max_id=visa_dataset['prevailing_wage_new'].idxmax()\n",
    "min_id=visa_dataset['prevailing_wage_new'].idxmin()\n",
    "print(max_id,min_id)"
   ]
  },
  {
   "cell_type": "code",
   "execution_count": 11,
   "id": "f9eb629c",
   "metadata": {},
   "outputs": [
    {
     "data": {
      "text/plain": [
       "21077    319210.2700\n",
       "20575         2.1367\n",
       "Name: prevailing_wage, dtype: float64"
      ]
     },
     "execution_count": 11,
     "metadata": {},
     "output_type": "execute_result"
    }
   ],
   "source": [
    "visa_dataset['prevailing_wage'].iloc[[max_id,min_id]]"
   ]
  },
  {
   "cell_type": "code",
   "execution_count": 12,
   "id": "2c77186d",
   "metadata": {},
   "outputs": [
    {
     "data": {
      "text/plain": [
       "21077    1.0\n",
       "20575    0.0\n",
       "Name: prevailing_wage_new, dtype: float64"
      ]
     },
     "execution_count": 12,
     "metadata": {},
     "output_type": "execute_result"
    }
   ],
   "source": [
    "visa_dataset['prevailing_wage_new'].iloc[[max_id,min_id]]\n",
    "\n",
    "# here 21077 is the id \n",
    "# here 20575  is the id "
   ]
  },
  {
   "cell_type": "code",
   "execution_count": 24,
   "id": "b2093219",
   "metadata": {},
   "outputs": [],
   "source": [
    "# Method-2\n",
    "# import the package :  MinMaxscalar\n",
    "# save the package\n",
    "# apply fit transform\n",
    "\n",
    "\n",
    "file_name=\"C:\\\\Users\\\\omkar\\\\OneDrive\\\\Documents\\\\Data science\\\\Naresh IT\\\\Datafiles\\\\Visadataset.csv\"\n",
    "visa_dataset=pd.read_csv(file_name)\n",
    "\n",
    "\n",
    "from sklearn.preprocessing import MinMaxScaler\n",
    "mms=MinMaxScaler()\n",
    "visa_dataset['prevailing_wage_new1']=mms.fit_transform(\n",
    "                                     visa_dataset['prevailing_wage'].values.reshape(-1,1)\n",
    "                                        )"
   ]
  },
  {
   "cell_type": "code",
   "execution_count": 39,
   "id": "7bed9be3",
   "metadata": {},
   "outputs": [],
   "source": [
    "\n",
    "file_name=\"C:\\\\Users\\\\omkar\\\\OneDrive\\\\Documents\\\\Data science\\\\Naresh IT\\\\Datafiles\\\\Visadataset.csv\"\n",
    "visa_dataset=pd.read_csv(file_name)\n",
    "\n",
    "\n",
    "from sklearn.preprocessing import MinMaxScaler\n",
    "mms=MinMaxScaler()\n",
    "visa_dataset['prevailing_wage_new1']=mms.fit_transform(visa_dataset[['prevailing_wage']])"
   ]
  },
  {
   "cell_type": "code",
   "execution_count": 40,
   "id": "4003c845",
   "metadata": {},
   "outputs": [
    {
     "data": {
      "text/html": [
       "<div>\n",
       "<style scoped>\n",
       "    .dataframe tbody tr th:only-of-type {\n",
       "        vertical-align: middle;\n",
       "    }\n",
       "\n",
       "    .dataframe tbody tr th {\n",
       "        vertical-align: top;\n",
       "    }\n",
       "\n",
       "    .dataframe thead th {\n",
       "        text-align: right;\n",
       "    }\n",
       "</style>\n",
       "<table border=\"1\" class=\"dataframe\">\n",
       "  <thead>\n",
       "    <tr style=\"text-align: right;\">\n",
       "      <th></th>\n",
       "      <th>prevailing_wage</th>\n",
       "    </tr>\n",
       "  </thead>\n",
       "  <tbody>\n",
       "    <tr>\n",
       "      <th>0</th>\n",
       "      <td>592.2029</td>\n",
       "    </tr>\n",
       "    <tr>\n",
       "      <th>1</th>\n",
       "      <td>83425.6500</td>\n",
       "    </tr>\n",
       "    <tr>\n",
       "      <th>2</th>\n",
       "      <td>122996.8600</td>\n",
       "    </tr>\n",
       "    <tr>\n",
       "      <th>3</th>\n",
       "      <td>83434.0300</td>\n",
       "    </tr>\n",
       "    <tr>\n",
       "      <th>4</th>\n",
       "      <td>149907.3900</td>\n",
       "    </tr>\n",
       "    <tr>\n",
       "      <th>...</th>\n",
       "      <td>...</td>\n",
       "    </tr>\n",
       "    <tr>\n",
       "      <th>25475</th>\n",
       "      <td>77092.5700</td>\n",
       "    </tr>\n",
       "    <tr>\n",
       "      <th>25476</th>\n",
       "      <td>279174.7900</td>\n",
       "    </tr>\n",
       "    <tr>\n",
       "      <th>25477</th>\n",
       "      <td>146298.8500</td>\n",
       "    </tr>\n",
       "    <tr>\n",
       "      <th>25478</th>\n",
       "      <td>86154.7700</td>\n",
       "    </tr>\n",
       "    <tr>\n",
       "      <th>25479</th>\n",
       "      <td>70876.9100</td>\n",
       "    </tr>\n",
       "  </tbody>\n",
       "</table>\n",
       "<p>25480 rows × 1 columns</p>\n",
       "</div>"
      ],
      "text/plain": [
       "       prevailing_wage\n",
       "0             592.2029\n",
       "1           83425.6500\n",
       "2          122996.8600\n",
       "3           83434.0300\n",
       "4          149907.3900\n",
       "...                ...\n",
       "25475       77092.5700\n",
       "25476      279174.7900\n",
       "25477      146298.8500\n",
       "25478       86154.7700\n",
       "25479       70876.9100\n",
       "\n",
       "[25480 rows x 1 columns]"
      ]
     },
     "execution_count": 40,
     "metadata": {},
     "output_type": "execute_result"
    }
   ],
   "source": [
    "visa_dataset[['prevailing_wage']]"
   ]
  },
  {
   "cell_type": "code",
   "execution_count": 38,
   "id": "14f13a4f",
   "metadata": {},
   "outputs": [
    {
     "data": {
      "text/plain": [
       "array([[0.00184853],\n",
       "       [0.2613452 ],\n",
       "       [0.385312  ],\n",
       "       ...,\n",
       "       [0.45831136],\n",
       "       [0.26989486],\n",
       "       [0.22203311]])"
      ]
     },
     "execution_count": 38,
     "metadata": {},
     "output_type": "execute_result"
    }
   ],
   "source": [
    "var1=mms.fit(visa_dataset['prevailing_wage'].values.reshape(-1,1))\n",
    "var1.transform(visa_dataset['prevailing_wage'].values.reshape(-1,1))"
   ]
  },
  {
   "cell_type": "code",
   "execution_count": 34,
   "id": "e2f8f3d4",
   "metadata": {},
   "outputs": [
    {
     "data": {
      "text/plain": [
       "array([   592.2029,  83425.65  , 122996.86  , ..., 146298.85  ,\n",
       "        86154.77  ,  70876.91  ])"
      ]
     },
     "execution_count": 34,
     "metadata": {},
     "output_type": "execute_result"
    }
   ],
   "source": [
    "visa_dataset['prevailing_wage'].values"
   ]
  },
  {
   "cell_type": "code",
   "execution_count": 35,
   "id": "2a5a58be",
   "metadata": {},
   "outputs": [
    {
     "data": {
      "text/plain": [
       "2"
      ]
     },
     "execution_count": 35,
     "metadata": {},
     "output_type": "execute_result"
    }
   ],
   "source": [
    "visa_dataset['prevailing_wage'].values.reshape(-1,1).ndim"
   ]
  },
  {
   "cell_type": "code",
   "execution_count": 25,
   "id": "d42a4484",
   "metadata": {},
   "outputs": [
    {
     "data": {
      "text/plain": [
       "0        0.001849\n",
       "1        0.261345\n",
       "2        0.385312\n",
       "3        0.261371\n",
       "4        0.469616\n",
       "           ...   \n",
       "25475    0.241505\n",
       "25476    0.874579\n",
       "25477    0.458311\n",
       "25478    0.269895\n",
       "25479    0.222033\n",
       "Name: prevailing_wage_new1, Length: 25480, dtype: float64"
      ]
     },
     "execution_count": 25,
     "metadata": {},
     "output_type": "execute_result"
    }
   ],
   "source": [
    "visa_dataset['prevailing_wage_new1']"
   ]
  },
  {
   "cell_type": "code",
   "execution_count": 23,
   "id": "98b6c9ca",
   "metadata": {},
   "outputs": [
    {
     "data": {
      "text/plain": [
       "array([[   592.2029],\n",
       "       [ 83425.65  ],\n",
       "       [122996.86  ],\n",
       "       ...,\n",
       "       [146298.85  ],\n",
       "       [ 86154.77  ],\n",
       "       [ 70876.91  ]])"
      ]
     },
     "execution_count": 23,
     "metadata": {},
     "output_type": "execute_result"
    }
   ],
   "source": [
    "visa_dataset['prevailing_wage'].values.reshape(-1,1)"
   ]
  },
  {
   "cell_type": "markdown",
   "id": "91c26fea",
   "metadata": {},
   "source": [
    "$Stnadardization$"
   ]
  },
  {
   "cell_type": "markdown",
   "id": "6e8d0cde",
   "metadata": {},
   "source": [
    "<img src=\"data:image/jpeg;base64,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\" data-deferred=\"1\" class=\"rg_i Q4LuWd\" jsname=\"Q4LuWd\" width=\"318\" height=\"159\" alt=\"How to Calculate a Z-Score in Python (4 Ways) • datagy\" data-iml=\"867.2999999523163\" data-atf=\"true\">"
   ]
  },
  {
   "cell_type": "code",
   "execution_count": null,
   "id": "64c3d31a",
   "metadata": {},
   "outputs": [],
   "source": [
    "# Method-1\n",
    "# mean\n",
    "# std\n",
    "# nr\n",
    "# nr/std\n",
    "\n",
    "# StandardScalar"
   ]
  },
  {
   "cell_type": "code",
   "execution_count": 42,
   "id": "1641fc3d",
   "metadata": {},
   "outputs": [],
   "source": [
    "file_name=\"C:\\\\Users\\\\omkar\\\\OneDrive\\\\Documents\\\\Data science\\\\Naresh IT\\\\Datafiles\\\\Visadataset.csv\"\n",
    "visa_dataset=pd.read_csv(file_name)\n",
    "\n",
    "p_wage_mean=visa_dataset['prevailing_wage'].mean()\n",
    "p_wage_std=visa_dataset['prevailing_wage'].std()\n",
    "nr=visa_dataset['prevailing_wage']-p_wage_mean\n",
    "visa_dataset['prevailing_wage_new2']=nr/p_wage_std"
   ]
  },
  {
   "cell_type": "code",
   "execution_count": 43,
   "id": "e5eccb15",
   "metadata": {},
   "outputs": [
    {
     "data": {
      "text/html": [
       "<div>\n",
       "<style scoped>\n",
       "    .dataframe tbody tr th:only-of-type {\n",
       "        vertical-align: middle;\n",
       "    }\n",
       "\n",
       "    .dataframe tbody tr th {\n",
       "        vertical-align: top;\n",
       "    }\n",
       "\n",
       "    .dataframe thead th {\n",
       "        text-align: right;\n",
       "    }\n",
       "</style>\n",
       "<table border=\"1\" class=\"dataframe\">\n",
       "  <thead>\n",
       "    <tr style=\"text-align: right;\">\n",
       "      <th></th>\n",
       "      <th>prevailing_wage</th>\n",
       "      <th>prevailing_wage_new2</th>\n",
       "    </tr>\n",
       "  </thead>\n",
       "  <tbody>\n",
       "    <tr>\n",
       "      <th>0</th>\n",
       "      <td>592.2029</td>\n",
       "      <td>-1.398510</td>\n",
       "    </tr>\n",
       "    <tr>\n",
       "      <th>1</th>\n",
       "      <td>83425.6500</td>\n",
       "      <td>0.169832</td>\n",
       "    </tr>\n",
       "    <tr>\n",
       "      <th>2</th>\n",
       "      <td>122996.8600</td>\n",
       "      <td>0.919060</td>\n",
       "    </tr>\n",
       "    <tr>\n",
       "      <th>3</th>\n",
       "      <td>83434.0300</td>\n",
       "      <td>0.169991</td>\n",
       "    </tr>\n",
       "    <tr>\n",
       "      <th>4</th>\n",
       "      <td>149907.3900</td>\n",
       "      <td>1.428576</td>\n",
       "    </tr>\n",
       "    <tr>\n",
       "      <th>...</th>\n",
       "      <td>...</td>\n",
       "      <td>...</td>\n",
       "    </tr>\n",
       "    <tr>\n",
       "      <th>25475</th>\n",
       "      <td>77092.5700</td>\n",
       "      <td>0.049923</td>\n",
       "    </tr>\n",
       "    <tr>\n",
       "      <th>25476</th>\n",
       "      <td>279174.7900</td>\n",
       "      <td>3.876083</td>\n",
       "    </tr>\n",
       "    <tr>\n",
       "      <th>25477</th>\n",
       "      <td>146298.8500</td>\n",
       "      <td>1.360253</td>\n",
       "    </tr>\n",
       "    <tr>\n",
       "      <th>25478</th>\n",
       "      <td>86154.7700</td>\n",
       "      <td>0.221504</td>\n",
       "    </tr>\n",
       "    <tr>\n",
       "      <th>25479</th>\n",
       "      <td>70876.9100</td>\n",
       "      <td>-0.067762</td>\n",
       "    </tr>\n",
       "  </tbody>\n",
       "</table>\n",
       "<p>25480 rows × 2 columns</p>\n",
       "</div>"
      ],
      "text/plain": [
       "       prevailing_wage  prevailing_wage_new2\n",
       "0             592.2029             -1.398510\n",
       "1           83425.6500              0.169832\n",
       "2          122996.8600              0.919060\n",
       "3           83434.0300              0.169991\n",
       "4          149907.3900              1.428576\n",
       "...                ...                   ...\n",
       "25475       77092.5700              0.049923\n",
       "25476      279174.7900              3.876083\n",
       "25477      146298.8500              1.360253\n",
       "25478       86154.7700              0.221504\n",
       "25479       70876.9100             -0.067762\n",
       "\n",
       "[25480 rows x 2 columns]"
      ]
     },
     "execution_count": 43,
     "metadata": {},
     "output_type": "execute_result"
    }
   ],
   "source": [
    "visa_dataset[['prevailing_wage','prevailing_wage_new2']]"
   ]
  },
  {
   "cell_type": "code",
   "execution_count": 48,
   "id": "0f0f84c1",
   "metadata": {},
   "outputs": [
    {
     "name": "stdout",
     "output_type": "stream",
     "text": [
      "4.634101837909902\n",
      "-1.4096818992891214\n"
     ]
    }
   ],
   "source": [
    "print(visa_dataset['prevailing_wage_new2'].max())\n",
    "print(visa_dataset['prevailing_wage_new2'].min())"
   ]
  },
  {
   "cell_type": "code",
   "execution_count": 51,
   "id": "bd56784e",
   "metadata": {},
   "outputs": [
    {
     "data": {
      "text/plain": [
       "25186"
      ]
     },
     "execution_count": 51,
     "metadata": {},
     "output_type": "execute_result"
    }
   ],
   "source": [
    "# Extract the count values ranges between -1 to 1   ========= 68\n",
    "#  Extract the count values ranges between -2 to 2  ========= 95\n",
    "# Extract the count values ranges between -3 to 3   ========= 99.7\n",
    "con1=visa_dataset['prevailing_wage_new2']<3 \n",
    "con2=visa_dataset['prevailing_wage_new2']>-3\n",
    "count_33=len(visa_dataset[con1&con2])\n",
    "count_33"
   ]
  },
  {
   "cell_type": "code",
   "execution_count": 55,
   "id": "b24e43dc",
   "metadata": {},
   "outputs": [
    {
     "data": {
      "image/png": "[encoded data removed]",
      "text/plain": [
       "<Figure size 640x480 with 2 Axes>"
      ]
     },
     "metadata": {},
     "output_type": "display_data"
    }
   ],
   "source": [
    "import matplotlib.pyplot as plt\n",
    "plt.subplot(1,2,1)\n",
    "plt.hist(visa_dataset['prevailing_wage_new2'],bins=40)\n",
    "\n",
    "plt.subplot(1,2,2)\n",
    "plt.hist(visa_dataset['prevailing_wage'],bins=40)\n",
    "\n",
    "plt.show()"
   ]
  },
  {
   "cell_type": "code",
   "execution_count": 46,
   "id": "ea017d2d",
   "metadata": {},
   "outputs": [
    {
     "data": {
      "text/plain": [
       "0.9884615384615385"
      ]
     },
     "execution_count": 46,
     "metadata": {},
     "output_type": "execute_result"
    }
   ],
   "source": [
    "25186/25480"
   ]
  },
  {
   "cell_type": "code",
   "execution_count": 47,
   "id": "a3e78c0b",
   "metadata": {},
   "outputs": [],
   "source": [
    "# Method-2:\n",
    "from sklearn.preprocessing import StandardScaler\n",
    "ss=StandardScaler()\n",
    "visa_dataset['prevailing_wage_new3']=ss.fit_transform(visa_dataset[['prevailing_wage']])"
   ]
  },
  {
   "cell_type": "code",
   "execution_count": null,
   "id": "7a618466",
   "metadata": {},
   "outputs": [],
   "source": []
  },
  {
   "cell_type": "code",
   "execution_count": null,
   "id": "00e9f221",
   "metadata": {},
   "outputs": [],
   "source": []
  },
  {
   "cell_type": "code",
   "execution_count": null,
   "id": "68fb6f57",
   "metadata": {},
   "outputs": [],
   "source": []
  }
 ],
 "metadata": {
  "kernelspec": {
   "display_name": "Python 3 (ipykernel)",
   "language": "python",
   "name": "python3"
  },
  "language_info": {
   "codemirror_mode": {
    "name": "ipython",
    "version": 3
   },
   "file_extension": ".py",
   "mimetype": "text/x-python",
   "name": "python",
   "nbconvert_exporter": "python",
   "pygments_lexer": "ipython3",
   "version": "3.11.3"
  }
 },
 "nbformat": 4,
 "nbformat_minor": 5
}
